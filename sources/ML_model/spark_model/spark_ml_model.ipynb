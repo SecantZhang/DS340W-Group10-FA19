{
 "nbformat": 4,
 "nbformat_minor": 2,
 "metadata": {
  "language_info": {
   "name": "python",
   "codemirror_mode": {
    "name": "ipython",
    "version": 3
   },
   "version": "3.7.4"
  },
  "orig_nbformat": 2,
  "file_extension": ".py",
  "mimetype": "text/x-python",
  "name": "python",
  "npconvert_exporter": "python",
  "pygments_lexer": "ipython3",
  "version": 3
 },
 "cells": [
  {
   "cell_type": "code",
   "execution_count": 21,
   "metadata": {},
   "outputs": [],
   "source": [
    "from pyspark.sql import SparkSession\n",
    "import pandas as pd\n",
    "from pyspark.ml.feature import OneHotEncoderEstimator, StringIndexer, VectorAssembler, VectorIndexer\n",
    "from pyspark.ml import Pipeline\n",
    "from pyspark.ml.regression import RandomForestRegressor\n",
    "from pyspark.ml.evaluation import RegressionEvaluator"
   ]
  },
  {
   "cell_type": "code",
   "execution_count": 22,
   "metadata": {},
   "outputs": [],
   "source": [
    "data_path = \"/Users/Michavillson/Documents/PROJECTS/DS340W-Group10-FA19/sources/ML_model/output/ml_data.csv\""
   ]
  },
  {
   "cell_type": "code",
   "execution_count": 23,
   "metadata": {},
   "outputs": [
    {
     "name": "stdout",
     "output_type": "stream",
     "text": "root\n |-- avo: double (nullable = true)\n |-- cur: double (nullable = true)\n |-- cell: string (nullable = true)\n |-- mark: string (nullable = true)\n |-- ideas: integer (nullable = true)\n |-- valid: double (nullable = true)\n\n"
    }
   ],
   "source": [
    "spark = SparkSession.builder.appName('epig_data_aggregation').getOrCreate()\n",
    "df = spark.read.csv(data_path, header=True, inferSchema=True)\n",
    "df.printSchema()"
   ]
  },
  {
   "cell_type": "code",
   "execution_count": 24,
   "metadata": {},
   "outputs": [],
   "source": [
    "categoricalColumns = ['cell', 'mark', 'ideas']\n",
    "stages = []\n",
    "for categoricalColumn in categoricalColumns: \n",
    "    stringIndexer = StringIndexer(inputCol=categoricalColumn, outputCol=categoricalColumn+'Index')\n",
    "    encoder = OneHotEncoderEstimator(inputCols=[stringIndexer.getOutputCol()], outputCols=[categoricalColumn+\"classVec\"])\n",
    "    stages += [stringIndexer, encoder]\n",
    "\n",
    "label_stringIdx = StringIndexer(inputCol='valid', outputCol='label')\n",
    "stages += [label_stringIdx]\n",
    "\n",
    "numericCols = ['avo', 'cur']\n",
    "assemblerInputs = [c + \"classVec\" for c in categoricalColumns] + numericCols\n",
    "assembler = VectorAssembler(inputCols=assemblerInputs, outputCol=\"features\")\n",
    "stages += [assembler]"
   ]
  },
  {
   "cell_type": "code",
   "execution_count": 25,
   "metadata": {},
   "outputs": [
    {
     "name": "stdout",
     "output_type": "stream",
     "text": "root\n |-- label: double (nullable = false)\n |-- features: vector (nullable = true)\n |-- avo: double (nullable = true)\n |-- cur: double (nullable = true)\n |-- cell: string (nullable = true)\n |-- mark: string (nullable = true)\n |-- ideas: integer (nullable = true)\n |-- valid: double (nullable = true)\n |-- cellIndex: double (nullable = false)\n |-- cellclassVec: vector (nullable = true)\n |-- markIndex: double (nullable = false)\n |-- markclassVec: vector (nullable = true)\n |-- ideasIndex: double (nullable = false)\n |-- ideasclassVec: vector (nullable = true)\n |-- label: double (nullable = false)\n |-- features: vector (nullable = true)\n\n"
    }
   ],
   "source": [
    "pipeline = Pipeline(stages=stages)\n",
    "pipelineModel = pipeline.fit(df)\n",
    "df = pipelineModel.transform(df)\n",
    "cols = df.columns\n",
    "selectedCols = ['label', 'features'] + cols\n",
    "df = df.select(selectedCols)\n",
    "df.printSchema()"
   ]
  },
  {
   "cell_type": "code",
   "execution_count": 27,
   "metadata": {},
   "outputs": [
    {
     "data": {
      "text/html": "<div>\n<style scoped>\n    .dataframe tbody tr th:only-of-type {\n        vertical-align: middle;\n    }\n\n    .dataframe tbody tr th {\n        vertical-align: top;\n    }\n\n    .dataframe thead th {\n        text-align: right;\n    }\n</style>\n<table border=\"1\" class=\"dataframe\">\n  <thead>\n    <tr style=\"text-align: right;\">\n      <th></th>\n      <th>0</th>\n      <th>1</th>\n      <th>2</th>\n      <th>3</th>\n      <th>4</th>\n    </tr>\n  </thead>\n  <tbody>\n    <tr>\n      <th>label</th>\n      <td>0</td>\n      <td>0</td>\n      <td>0</td>\n      <td>0</td>\n      <td>0</td>\n    </tr>\n    <tr>\n      <th>features</th>\n      <td>(0.0, 1.0, 0.0, 0.0, 0.0, 0.0, 0.0, 0.0, 0.0, ...</td>\n      <td>(0.0, 1.0, 0.0, 0.0, 0.0, 0.0, 0.0, 0.0, 0.0, ...</td>\n      <td>(0.0, 1.0, 0.0, 0.0, 0.0, 0.0, 0.0, 0.0, 0.0, ...</td>\n      <td>(0.0, 1.0, 0.0, 0.0, 0.0, 0.0, 0.0, 0.0, 0.0, ...</td>\n      <td>(0.0, 1.0, 0.0, 0.0, 0.0, 0.0, 0.0, 0.0, 0.0, ...</td>\n    </tr>\n    <tr>\n      <th>avo</th>\n      <td>0.246995</td>\n      <td>0.248117</td>\n      <td>0.248174</td>\n      <td>0.247927</td>\n      <td>0.248312</td>\n    </tr>\n    <tr>\n      <th>cur</th>\n      <td>0.180174</td>\n      <td>0.180174</td>\n      <td>0.180174</td>\n      <td>0.180174</td>\n      <td>0.180174</td>\n    </tr>\n    <tr>\n      <th>cell</th>\n      <td>C46</td>\n      <td>C46</td>\n      <td>C46</td>\n      <td>C46</td>\n      <td>C46</td>\n    </tr>\n    <tr>\n      <th>mark</th>\n      <td>M03</td>\n      <td>M03</td>\n      <td>M03</td>\n      <td>M03</td>\n      <td>M03</td>\n    </tr>\n    <tr>\n      <th>ideas</th>\n      <td>0</td>\n      <td>92</td>\n      <td>0</td>\n      <td>0</td>\n      <td>0</td>\n    </tr>\n    <tr>\n      <th>valid</th>\n      <td>0.22644</td>\n      <td>0.22644</td>\n      <td>0.22644</td>\n      <td>0.22644</td>\n      <td>0.22644</td>\n    </tr>\n    <tr>\n      <th>cellIndex</th>\n      <td>1</td>\n      <td>1</td>\n      <td>1</td>\n      <td>1</td>\n      <td>1</td>\n    </tr>\n    <tr>\n      <th>cellclassVec</th>\n      <td>(0.0, 1.0, 0.0, 0.0, 0.0, 0.0, 0.0, 0.0, 0.0)</td>\n      <td>(0.0, 1.0, 0.0, 0.0, 0.0, 0.0, 0.0, 0.0, 0.0)</td>\n      <td>(0.0, 1.0, 0.0, 0.0, 0.0, 0.0, 0.0, 0.0, 0.0)</td>\n      <td>(0.0, 1.0, 0.0, 0.0, 0.0, 0.0, 0.0, 0.0, 0.0)</td>\n      <td>(0.0, 1.0, 0.0, 0.0, 0.0, 0.0, 0.0, 0.0, 0.0)</td>\n    </tr>\n    <tr>\n      <th>markIndex</th>\n      <td>2</td>\n      <td>2</td>\n      <td>2</td>\n      <td>2</td>\n      <td>2</td>\n    </tr>\n    <tr>\n      <th>markclassVec</th>\n      <td>(0.0, 0.0)</td>\n      <td>(0.0, 0.0)</td>\n      <td>(0.0, 0.0)</td>\n      <td>(0.0, 0.0)</td>\n      <td>(0.0, 0.0)</td>\n    </tr>\n    <tr>\n      <th>ideasIndex</th>\n      <td>0</td>\n      <td>93</td>\n      <td>0</td>\n      <td>0</td>\n      <td>0</td>\n    </tr>\n    <tr>\n      <th>ideasclassVec</th>\n      <td>(1.0, 0.0, 0.0, 0.0, 0.0, 0.0, 0.0, 0.0, 0.0, ...</td>\n      <td>(0.0, 0.0, 0.0, 0.0, 0.0, 0.0, 0.0, 0.0, 0.0, ...</td>\n      <td>(1.0, 0.0, 0.0, 0.0, 0.0, 0.0, 0.0, 0.0, 0.0, ...</td>\n      <td>(1.0, 0.0, 0.0, 0.0, 0.0, 0.0, 0.0, 0.0, 0.0, ...</td>\n      <td>(1.0, 0.0, 0.0, 0.0, 0.0, 0.0, 0.0, 0.0, 0.0, ...</td>\n    </tr>\n    <tr>\n      <th>label</th>\n      <td>0</td>\n      <td>0</td>\n      <td>0</td>\n      <td>0</td>\n      <td>0</td>\n    </tr>\n    <tr>\n      <th>features</th>\n      <td>(0.0, 1.0, 0.0, 0.0, 0.0, 0.0, 0.0, 0.0, 0.0, ...</td>\n      <td>(0.0, 1.0, 0.0, 0.0, 0.0, 0.0, 0.0, 0.0, 0.0, ...</td>\n      <td>(0.0, 1.0, 0.0, 0.0, 0.0, 0.0, 0.0, 0.0, 0.0, ...</td>\n      <td>(0.0, 1.0, 0.0, 0.0, 0.0, 0.0, 0.0, 0.0, 0.0, ...</td>\n      <td>(0.0, 1.0, 0.0, 0.0, 0.0, 0.0, 0.0, 0.0, 0.0, ...</td>\n    </tr>\n  </tbody>\n</table>\n</div>",
      "text/plain": "                                                               0  \\\nlabel                                                          0   \nfeatures       (0.0, 1.0, 0.0, 0.0, 0.0, 0.0, 0.0, 0.0, 0.0, ...   \navo                                                     0.246995   \ncur                                                     0.180174   \ncell                                                         C46   \nmark                                                         M03   \nideas                                                          0   \nvalid                                                    0.22644   \ncellIndex                                                      1   \ncellclassVec       (0.0, 1.0, 0.0, 0.0, 0.0, 0.0, 0.0, 0.0, 0.0)   \nmarkIndex                                                      2   \nmarkclassVec                                          (0.0, 0.0)   \nideasIndex                                                     0   \nideasclassVec  (1.0, 0.0, 0.0, 0.0, 0.0, 0.0, 0.0, 0.0, 0.0, ...   \nlabel                                                          0   \nfeatures       (0.0, 1.0, 0.0, 0.0, 0.0, 0.0, 0.0, 0.0, 0.0, ...   \n\n                                                               1  \\\nlabel                                                          0   \nfeatures       (0.0, 1.0, 0.0, 0.0, 0.0, 0.0, 0.0, 0.0, 0.0, ...   \navo                                                     0.248117   \ncur                                                     0.180174   \ncell                                                         C46   \nmark                                                         M03   \nideas                                                         92   \nvalid                                                    0.22644   \ncellIndex                                                      1   \ncellclassVec       (0.0, 1.0, 0.0, 0.0, 0.0, 0.0, 0.0, 0.0, 0.0)   \nmarkIndex                                                      2   \nmarkclassVec                                          (0.0, 0.0)   \nideasIndex                                                    93   \nideasclassVec  (0.0, 0.0, 0.0, 0.0, 0.0, 0.0, 0.0, 0.0, 0.0, ...   \nlabel                                                          0   \nfeatures       (0.0, 1.0, 0.0, 0.0, 0.0, 0.0, 0.0, 0.0, 0.0, ...   \n\n                                                               2  \\\nlabel                                                          0   \nfeatures       (0.0, 1.0, 0.0, 0.0, 0.0, 0.0, 0.0, 0.0, 0.0, ...   \navo                                                     0.248174   \ncur                                                     0.180174   \ncell                                                         C46   \nmark                                                         M03   \nideas                                                          0   \nvalid                                                    0.22644   \ncellIndex                                                      1   \ncellclassVec       (0.0, 1.0, 0.0, 0.0, 0.0, 0.0, 0.0, 0.0, 0.0)   \nmarkIndex                                                      2   \nmarkclassVec                                          (0.0, 0.0)   \nideasIndex                                                     0   \nideasclassVec  (1.0, 0.0, 0.0, 0.0, 0.0, 0.0, 0.0, 0.0, 0.0, ...   \nlabel                                                          0   \nfeatures       (0.0, 1.0, 0.0, 0.0, 0.0, 0.0, 0.0, 0.0, 0.0, ...   \n\n                                                               3  \\\nlabel                                                          0   \nfeatures       (0.0, 1.0, 0.0, 0.0, 0.0, 0.0, 0.0, 0.0, 0.0, ...   \navo                                                     0.247927   \ncur                                                     0.180174   \ncell                                                         C46   \nmark                                                         M03   \nideas                                                          0   \nvalid                                                    0.22644   \ncellIndex                                                      1   \ncellclassVec       (0.0, 1.0, 0.0, 0.0, 0.0, 0.0, 0.0, 0.0, 0.0)   \nmarkIndex                                                      2   \nmarkclassVec                                          (0.0, 0.0)   \nideasIndex                                                     0   \nideasclassVec  (1.0, 0.0, 0.0, 0.0, 0.0, 0.0, 0.0, 0.0, 0.0, ...   \nlabel                                                          0   \nfeatures       (0.0, 1.0, 0.0, 0.0, 0.0, 0.0, 0.0, 0.0, 0.0, ...   \n\n                                                               4  \nlabel                                                          0  \nfeatures       (0.0, 1.0, 0.0, 0.0, 0.0, 0.0, 0.0, 0.0, 0.0, ...  \navo                                                     0.248312  \ncur                                                     0.180174  \ncell                                                         C46  \nmark                                                         M03  \nideas                                                          0  \nvalid                                                    0.22644  \ncellIndex                                                      1  \ncellclassVec       (0.0, 1.0, 0.0, 0.0, 0.0, 0.0, 0.0, 0.0, 0.0)  \nmarkIndex                                                      2  \nmarkclassVec                                          (0.0, 0.0)  \nideasIndex                                                     0  \nideasclassVec  (1.0, 0.0, 0.0, 0.0, 0.0, 0.0, 0.0, 0.0, 0.0, ...  \nlabel                                                          0  \nfeatures       (0.0, 1.0, 0.0, 0.0, 0.0, 0.0, 0.0, 0.0, 0.0, ...  "
     },
     "execution_count": 27,
     "metadata": {},
     "output_type": "execute_result"
    }
   ],
   "source": [
    "pd.DataFrame(df.take(5), columns=df.columns).transpose()"
   ]
  },
  {
   "cell_type": "code",
   "execution_count": null,
   "metadata": {},
   "outputs": [],
   "source": []
  }
 ]
}